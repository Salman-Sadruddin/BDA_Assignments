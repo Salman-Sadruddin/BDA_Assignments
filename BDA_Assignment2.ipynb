{
 "cells": [
  {
   "cell_type": "code",
   "execution_count": 32,
   "id": "1792935e",
   "metadata": {},
   "outputs": [],
   "source": [
    "import json\n",
    "import functools\n",
    "import datetime"
   ]
  },
  {
   "cell_type": "code",
   "execution_count": 33,
   "id": "e797a594",
   "metadata": {},
   "outputs": [],
   "source": [
    "My_Dict = {\n",
    "\"person_1\":{ \"name\" : \"Abdul Rafay\", \"age\":22, \"Interests\":[\"football\",\"cricket\"], \"amount_deposited\":\n",
    "[24000,26000] },\n",
    "\"person_2\":{ \"name\" : \"Nancy James\", \"age\":23, \"Interests\":[\"baseball\",\"cricket\"], \"amount_deposited\":\n",
    "[24000,27000] },\n",
    "\"person_3\":{ \"name\" : \"Selena Gomez\", \"age\":26, \"Interests\":[\"baseball\",\"table tennis\"],\n",
    "\"amount_deposited\":[24000,28000] }\n",
    "}"
   ]
  },
  {
   "cell_type": "code",
   "execution_count": 34,
   "id": "8529cd98",
   "metadata": {},
   "outputs": [
    {
     "name": "stdout",
     "output_type": "stream",
     "text": [
      "{'person_1': {'name': 'Abdul Rafay', 'age': 22, 'Interests': ['football', 'cricket'], 'amount_deposited': [24000, 26000]}, 'person_2': {'name': 'Nancy James', 'age': 23, 'Interests': ['baseball', 'cricket'], 'amount_deposited': [24000, 27000]}, 'person_3': {'name': 'Selena Gomez', 'age': 26, 'Interests': ['baseball', 'table tennis'], 'amount_deposited': [24000, 28000]}}\n"
     ]
    }
   ],
   "source": [
    "print(My_Dict)"
   ]
  },
  {
   "cell_type": "code",
   "execution_count": 35,
   "id": "2c92eff0",
   "metadata": {},
   "outputs": [],
   "source": [
    "alp = [chr(i) for i in range(97,104) if chr (i) not in [115,109,107]]\n",
    "s_m_k = [chr(i) for i in [115,109,107]]"
   ]
  },
  {
   "cell_type": "code",
   "execution_count": 36,
   "id": "06e8300b",
   "metadata": {},
   "outputs": [],
   "source": [
    "def processing(record):\n",
    "    if record[1][\"name\"][0].lower() in alp:\n",
    "        record[1][\"name\"] = 'Mr. '+record[1][\"name\"]\n",
    "    else:\n",
    "        record[1][\"name\"] = 'Ms. ' + record[1][\"name\"]\n",
    "    temp = record[1].pop('amount_deposited')\n",
    "    record[1][\"Year\"] = str(int(CURRENT_DATE.year) - int(record[1][\"age\"]))\n",
    "    record[1][\"amount_deposited\"] = int(functools.reduce(lambda x,y: x+y, temp))\n",
    "    return record"
   ]
  },
  {
   "cell_type": "code",
   "execution_count": 37,
   "id": "10f5600c",
   "metadata": {},
   "outputs": [],
   "source": [
    "def main():\n",
    "    mapped = dict(list(map(processing, list(filter(lambda record: record[1][\"name\"][0].lower() not in s_m_k, My_Dict.items())))))\n",
    "    data = {\n",
    "        'Current_Date': CURRENT_DATE.strftime('%d-%b-%Y'),\n",
    "        'Data': mapped\n",
    "    }"
   ]
  },
  {
   "cell_type": "code",
   "execution_count": 38,
   "id": "f2137abc",
   "metadata": {},
   "outputs": [],
   "source": [
    "def write_file(Data):\n",
    "    try:\n",
    "        with open('names.json', 'w') as file:\n",
    "            json.dump(Data, file, indent=4)\n",
    "        return True\n",
    "    except Exception as e:\n",
    "        return False"
   ]
  },
  {
   "cell_type": "code",
   "execution_count": 39,
   "id": "fcc27f75",
   "metadata": {},
   "outputs": [
    {
     "ename": "NameError",
     "evalue": "name 'data' is not defined",
     "output_type": "error",
     "traceback": [
      "\u001b[1;31m---------------------------------------------------------------------------\u001b[0m",
      "\u001b[1;31mNameError\u001b[0m                                 Traceback (most recent call last)",
      "\u001b[1;32m<ipython-input-39-d8a3d34e54b5>\u001b[0m in \u001b[0;36m<module>\u001b[1;34m\u001b[0m\n\u001b[1;32m----> 1\u001b[1;33m \u001b[1;32mif\u001b[0m \u001b[0mwrite_file\u001b[0m\u001b[1;33m(\u001b[0m\u001b[0mdata\u001b[0m\u001b[1;33m)\u001b[0m\u001b[1;33m:\u001b[0m\u001b[1;33m\u001b[0m\u001b[1;33m\u001b[0m\u001b[0m\n\u001b[0m\u001b[0;32m      2\u001b[0m     \u001b[0mprint\u001b[0m\u001b[1;33m(\u001b[0m\u001b[1;34m'File Successfully Written.'\u001b[0m\u001b[1;33m)\u001b[0m\u001b[1;33m\u001b[0m\u001b[1;33m\u001b[0m\u001b[0m\n\u001b[0;32m      3\u001b[0m \u001b[1;32melse\u001b[0m\u001b[1;33m:\u001b[0m\u001b[1;33m\u001b[0m\u001b[1;33m\u001b[0m\u001b[0m\n\u001b[0;32m      4\u001b[0m     \u001b[0mprint\u001b[0m\u001b[1;33m(\u001b[0m\u001b[1;34m'Error Writing File. Please Check That File Have Proper Permissions.'\u001b[0m\u001b[1;33m)\u001b[0m\u001b[1;33m\u001b[0m\u001b[1;33m\u001b[0m\u001b[0m\n\u001b[0;32m      5\u001b[0m \u001b[1;33m\u001b[0m\u001b[0m\n",
      "\u001b[1;31mNameError\u001b[0m: name 'data' is not defined"
     ]
    }
   ],
   "source": [
    "if write_file(data):\n",
    "    print('File Successfully Written.')\n",
    "else:\n",
    "    print('Error Writing File. Please Check That File Have Proper Permissions.')\n",
    "\n",
    "\n",
    "if __name__ == '__main__':\n",
    "    main()"
   ]
  },
  {
   "cell_type": "code",
   "execution_count": null,
   "id": "364517d6",
   "metadata": {},
   "outputs": [],
   "source": []
  }
 ],
 "metadata": {
  "kernelspec": {
   "display_name": "Python 3",
   "language": "python",
   "name": "python3"
  },
  "language_info": {
   "codemirror_mode": {
    "name": "ipython",
    "version": 3
   },
   "file_extension": ".py",
   "mimetype": "text/x-python",
   "name": "python",
   "nbconvert_exporter": "python",
   "pygments_lexer": "ipython3",
   "version": "3.8.8"
  }
 },
 "nbformat": 4,
 "nbformat_minor": 5
}
