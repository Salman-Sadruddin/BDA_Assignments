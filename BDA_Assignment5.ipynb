{
 "cells": [
  {
   "cell_type": "code",
   "execution_count": 146,
   "id": "9110c2c5",
   "metadata": {},
   "outputs": [
    {
     "name": "stdout",
     "output_type": "stream",
     "text": [
      "File Successfully Written.\n"
     ]
    }
   ],
   "source": [
    "import csv, json, datetime, functools\n",
    "import pandas as pd\n",
    "\n",
    "My_Dict = {\n",
    "'person_1': { 'name': 'Abdul Rafay', 'age': 22, 'Interests': ['football', 'cricket'], 'amount_deposited': [24000, 26000]},\n",
    "'person_2': { 'name': 'Nancy James', 'age': 23, 'Interests': ['baseball', 'cricket'], 'amount_deposited': [24000, 27000]},\n",
    "'person_3': { 'name': 'Selena Gomez', 'age': 26, 'Interests': ['baseball', 'table tennis'], 'amount_deposited': [24000, 28000]}\n",
    "}\n",
    "\n",
    "a_to_g = [chr(x) for x in range(97, 104)]\n",
    "s_m_k = [chr(x) for x in [107, 109, 115]]\n",
    "\n",
    "CURRENT_DATE = datetime.date.today()\n",
    "\n",
    "def processing(record):\n",
    "    if record[1][\"name\"][0].lower() in a_to_g:\n",
    "        record[1][\"name\"] = 'Mr. '+record[1][\"name\"]\n",
    "    else:\n",
    "        record[1][\"name\"] = 'Ms. ' + record[1][\"name\"]\n",
    "    temp = record[1].pop('amount_deposited')\n",
    "    record[1][\"Year\"] = str(int(CURRENT_DATE.year) - int(record[1][\"age\"]))\n",
    "    record[1][\"amount_deposited\"] = int(functools.reduce(lambda x,y: x+y, temp))\n",
    "    return record\n",
    "\n",
    "def writing_file(data):\n",
    "    try:\n",
    "        import csv\n",
    "        a_file = open(\"sample.csv\", \"w\")\n",
    "        writer = csv.writer(a_file)\n",
    "        for key, value in data.items():\n",
    "            writer.writerow([key, value])\n",
    "            a_file.close()\n",
    "       # with open('names.csv', 'w') as f: \n",
    "        #    write = csv.writer(f) \n",
    "         #   write.writerow(field_names) \n",
    "          #  for data in My_Dict:\n",
    "           #     write.writerows(data) \n",
    "        return True\n",
    "    except Exception as e:\n",
    "        return False\n",
    "\n",
    "def main():\n",
    "    mapped = dict(list(map(processing, list(filter(lambda record: record[1][\"name\"][0].lower() not in s_m_k, My_Dict.items())))))\n",
    "    data = {\n",
    "       # 'Current_Date': CURRENT_DATE.strftime('%d-%b-%Y'),\n",
    "       'Data': mapped\n",
    "   }\n",
    "    \n",
    "    if writing_file(data):\n",
    "        print('File Successfully Written.')\n",
    "    else:\n",
    "        print('Error Writing File. Please Check That File Have Proper Permissions.')\n",
    "\n",
    "if __name__ == '__main__':\n",
    "    main()"
   ]
  },
  {
   "cell_type": "code",
   "execution_count": 87,
   "id": "f42cbc8b",
   "metadata": {},
   "outputs": [],
   "source": [
    "import json, datetime, functools\n",
    "\n",
    "My_Dict = [\n",
    " { 'name': 'Abdul Rafay', 'age': 22, 'Interests': ['football', 'cricket'], 'amount_deposited': [24000, 26000]},\n",
    " { 'name': 'Nancy James', 'age': 23, 'Interests': ['baseball', 'cricket'], 'amount_deposited': [24000, 27000]},\n",
    " { 'name': 'Selena Gomez', 'age': 26, 'Interests': ['baseball', 'table tennis'], 'amount_deposited': [24000, 28000]}\n",
    "]"
   ]
  },
  {
   "cell_type": "code",
   "execution_count": 150,
   "id": "72373f3a",
   "metadata": {},
   "outputs": [
    {
     "ename": "AttributeError",
     "evalue": "'str' object has no attribute 'keys'",
     "output_type": "error",
     "traceback": [
      "\u001b[1;31m---------------------------------------------------------------------------\u001b[0m",
      "\u001b[1;31mAttributeError\u001b[0m                            Traceback (most recent call last)",
      "\u001b[1;32m<ipython-input-150-ca155ddf654a>\u001b[0m in \u001b[0;36m<module>\u001b[1;34m\u001b[0m\n\u001b[0;32m      5\u001b[0m     \u001b[0mwriter\u001b[0m\u001b[1;33m.\u001b[0m\u001b[0mwriteheader\u001b[0m\u001b[1;33m(\u001b[0m\u001b[1;33m)\u001b[0m\u001b[1;33m\u001b[0m\u001b[1;33m\u001b[0m\u001b[0m\n\u001b[0;32m      6\u001b[0m     \u001b[1;32mfor\u001b[0m \u001b[0mdata\u001b[0m \u001b[1;32min\u001b[0m \u001b[0mMy_Dict\u001b[0m\u001b[1;33m:\u001b[0m\u001b[1;33m\u001b[0m\u001b[1;33m\u001b[0m\u001b[0m\n\u001b[1;32m----> 7\u001b[1;33m         \u001b[0mwriter\u001b[0m\u001b[1;33m.\u001b[0m\u001b[0mwriterow\u001b[0m\u001b[1;33m(\u001b[0m\u001b[0mdata\u001b[0m\u001b[1;33m)\u001b[0m\u001b[1;33m\u001b[0m\u001b[1;33m\u001b[0m\u001b[0m\n\u001b[0m",
      "\u001b[1;32m~\\Anaconda3\\lib\\csv.py\u001b[0m in \u001b[0;36mwriterow\u001b[1;34m(self, rowdict)\u001b[0m\n\u001b[0;32m    152\u001b[0m \u001b[1;33m\u001b[0m\u001b[0m\n\u001b[0;32m    153\u001b[0m     \u001b[1;32mdef\u001b[0m \u001b[0mwriterow\u001b[0m\u001b[1;33m(\u001b[0m\u001b[0mself\u001b[0m\u001b[1;33m,\u001b[0m \u001b[0mrowdict\u001b[0m\u001b[1;33m)\u001b[0m\u001b[1;33m:\u001b[0m\u001b[1;33m\u001b[0m\u001b[1;33m\u001b[0m\u001b[0m\n\u001b[1;32m--> 154\u001b[1;33m         \u001b[1;32mreturn\u001b[0m \u001b[0mself\u001b[0m\u001b[1;33m.\u001b[0m\u001b[0mwriter\u001b[0m\u001b[1;33m.\u001b[0m\u001b[0mwriterow\u001b[0m\u001b[1;33m(\u001b[0m\u001b[0mself\u001b[0m\u001b[1;33m.\u001b[0m\u001b[0m_dict_to_list\u001b[0m\u001b[1;33m(\u001b[0m\u001b[0mrowdict\u001b[0m\u001b[1;33m)\u001b[0m\u001b[1;33m)\u001b[0m\u001b[1;33m\u001b[0m\u001b[1;33m\u001b[0m\u001b[0m\n\u001b[0m\u001b[0;32m    155\u001b[0m \u001b[1;33m\u001b[0m\u001b[0m\n\u001b[0;32m    156\u001b[0m     \u001b[1;32mdef\u001b[0m \u001b[0mwriterows\u001b[0m\u001b[1;33m(\u001b[0m\u001b[0mself\u001b[0m\u001b[1;33m,\u001b[0m \u001b[0mrowdicts\u001b[0m\u001b[1;33m)\u001b[0m\u001b[1;33m:\u001b[0m\u001b[1;33m\u001b[0m\u001b[1;33m\u001b[0m\u001b[0m\n",
      "\u001b[1;32m~\\Anaconda3\\lib\\csv.py\u001b[0m in \u001b[0;36m_dict_to_list\u001b[1;34m(self, rowdict)\u001b[0m\n\u001b[0;32m    145\u001b[0m     \u001b[1;32mdef\u001b[0m \u001b[0m_dict_to_list\u001b[0m\u001b[1;33m(\u001b[0m\u001b[0mself\u001b[0m\u001b[1;33m,\u001b[0m \u001b[0mrowdict\u001b[0m\u001b[1;33m)\u001b[0m\u001b[1;33m:\u001b[0m\u001b[1;33m\u001b[0m\u001b[1;33m\u001b[0m\u001b[0m\n\u001b[0;32m    146\u001b[0m         \u001b[1;32mif\u001b[0m \u001b[0mself\u001b[0m\u001b[1;33m.\u001b[0m\u001b[0mextrasaction\u001b[0m \u001b[1;33m==\u001b[0m \u001b[1;34m\"raise\"\u001b[0m\u001b[1;33m:\u001b[0m\u001b[1;33m\u001b[0m\u001b[1;33m\u001b[0m\u001b[0m\n\u001b[1;32m--> 147\u001b[1;33m             \u001b[0mwrong_fields\u001b[0m \u001b[1;33m=\u001b[0m \u001b[0mrowdict\u001b[0m\u001b[1;33m.\u001b[0m\u001b[0mkeys\u001b[0m\u001b[1;33m(\u001b[0m\u001b[1;33m)\u001b[0m \u001b[1;33m-\u001b[0m \u001b[0mself\u001b[0m\u001b[1;33m.\u001b[0m\u001b[0mfieldnames\u001b[0m\u001b[1;33m\u001b[0m\u001b[1;33m\u001b[0m\u001b[0m\n\u001b[0m\u001b[0;32m    148\u001b[0m             \u001b[1;32mif\u001b[0m \u001b[0mwrong_fields\u001b[0m\u001b[1;33m:\u001b[0m\u001b[1;33m\u001b[0m\u001b[1;33m\u001b[0m\u001b[0m\n\u001b[0;32m    149\u001b[0m                 raise ValueError(\"dict contains fields not in fieldnames: \"\n",
      "\u001b[1;31mAttributeError\u001b[0m: 'str' object has no attribute 'keys'"
     ]
    }
   ],
   "source": [
    "field_names = ['name', 'age', 'Interests','amount_deposited']\n",
    "csv_file = \"Test1.csv\"\n",
    "with  open(csv_file, 'w') as csvfile:\n",
    "    writer = csv.DictWriter(csvfile, fieldnames=field_names)\n",
    "    writer.writeheader()\n",
    "    for data in My_Dict:\n",
    "        writer.writerow(data)"
   ]
  },
  {
   "cell_type": "code",
   "execution_count": null,
   "id": "253c757c",
   "metadata": {},
   "outputs": [],
   "source": []
  }
 ],
 "metadata": {
  "kernelspec": {
   "display_name": "Python 3",
   "language": "python",
   "name": "python3"
  },
  "language_info": {
   "codemirror_mode": {
    "name": "ipython",
    "version": 3
   },
   "file_extension": ".py",
   "mimetype": "text/x-python",
   "name": "python",
   "nbconvert_exporter": "python",
   "pygments_lexer": "ipython3",
   "version": "3.8.8"
  }
 },
 "nbformat": 4,
 "nbformat_minor": 5
}
