{
 "cells": [
  {
   "cell_type": "markdown",
   "id": "213225f5",
   "metadata": {},
   "source": [
    "# Question 1"
   ]
  },
  {
   "cell_type": "code",
   "execution_count": 23,
   "id": "f5bfc692",
   "metadata": {},
   "outputs": [
    {
     "name": "stdout",
     "output_type": "stream",
     "text": [
      "Principal Amout 1500\n",
      "Interest Rate 4.3\n",
      "Number of year 4\n",
      "After 4 at 4.3, the investment will be worth $.” 1758.0\n"
     ]
    }
   ],
   "source": [
    "def simp_interest(Pr,In,Yr):\n",
    "\n",
    "    print('Principal Amout', Pr)\n",
    "    print('Interest Rate', In)\n",
    "    print('Number of year', Yr)\n",
    "    \n",
    "    A =  Pr*(1+(In * Yr)/100)\n",
    "        \n",
    "    print(f'After {Yr} at {In}, the investment will be worth $.”', A)\n",
    "    \n",
    "simp_interest (1500, 4.3, 4)"
   ]
  },
  {
   "cell_type": "markdown",
   "id": "c21a8e4e",
   "metadata": {},
   "source": [
    "# Question 2 "
   ]
  },
  {
   "cell_type": "code",
   "execution_count": 31,
   "id": "3591ab50",
   "metadata": {},
   "outputs": [
    {
     "name": "stdout",
     "output_type": "stream",
     "text": [
      "What is the order amount $? 10\n",
      "What is the state? WI\n",
      "The subtotal is $10.0\n",
      "The tax is $0.55\n",
      "The total is $10.55\n"
     ]
    }
   ],
   "source": [
    "Order_Amt = float(input(\"What is the order amount $? \"))\n",
    "State = str(input('What is the state? '))\n",
    "\n",
    "\n",
    "if state == \"WI\" or state == \"wi\":\n",
    "    X = (Order_Amt*5.5)/100\n",
    "    print(f\"The subtotal is ${Order_Amt}\")\n",
    "    print(f\"The tax is ${X}\")\n",
    "    print(f\"The total is ${Order_Amt+X}\")\n",
    "else:\n",
    "    print(f\"The total is ${Order_Amt}\")"
   ]
  },
  {
   "cell_type": "markdown",
   "id": "4604eac9",
   "metadata": {},
   "source": [
    "# Question 3"
   ]
  },
  {
   "cell_type": "code",
   "execution_count": 34,
   "id": "6f41f530",
   "metadata": {},
   "outputs": [
    {
     "name": "stdout",
     "output_type": "stream",
     "text": [
      "Enter the password?abc$123\n",
      "Welcome!\n"
     ]
    }
   ],
   "source": [
    "Password= input(\"Enter the password?\")\n",
    "if( Password=='abc$123'):\n",
    " print (\"Welcome!\")\n",
    " \n",
    "elif ( Password=='12345'):\n",
    "  print (\"I don't know you.\")\n",
    "else :\n",
    "  print (\"I don't know you.\")"
   ]
  },
  {
   "cell_type": "markdown",
   "id": "7ae81689",
   "metadata": {},
   "source": [
    "# Question 4"
   ]
  },
  {
   "cell_type": "code",
   "execution_count": 37,
   "id": "1d96d45e",
   "metadata": {},
   "outputs": [
    {
     "name": "stdout",
     "output_type": "stream",
     "text": [
      "What is your age?16\n",
      "you are old enough to legally drive\n"
     ]
    }
   ],
   "source": [
    "Age= int(input(\"What is your age?\"))\n",
    "if (Age < 16):  \n",
    "    print('You are not old enough to legally drive ')\n",
    "else:\n",
    "    print(\"you are old enough to legally drive\")"
   ]
  },
  {
   "cell_type": "markdown",
   "id": "dd374e37",
   "metadata": {},
   "source": [
    "# Question 5"
   ]
  },
  {
   "cell_type": "code",
   "execution_count": 39,
   "id": "1eba2873",
   "metadata": {},
   "outputs": [
    {
     "name": "stdout",
     "output_type": "stream",
     "text": [
      " Press C to conver Farhrenheit to Celsius\n",
      " Press F to conver Celsius to Farhrenheit\n",
      " Your Choice is : F\n",
      "Enter the Tempurature: 32\n",
      "The temputate in Clesius is 37.76 \n"
     ]
    }
   ],
   "source": [
    "print(\" Press C to conver Farhrenheit to Celsius\")\n",
    "print(\" Press F to conver Celsius to Farhrenheit\")\n",
    "\n",
    "\n",
    "Choice= input(\" Your Choice is : \")\n",
    "Temp = int(input(\"Enter the Tempurature: \"))\n",
    "A = 0\n",
    "\n",
    "if Choice ==\"C\" or Choice == \"c\":\n",
    "    A =  (Temp-32) *5/9\n",
    "    print(f\"The temputate in Clesius is {A} \")\n",
    "\n",
    "else:\n",
    "    A = (Temp*9/50) +32\n",
    "    print(f\"The temputate in Clesius is {A} \")"
   ]
  },
  {
   "cell_type": "code",
   "execution_count": null,
   "id": "9b2d7f36",
   "metadata": {},
   "outputs": [],
   "source": []
  }
 ],
 "metadata": {
  "kernelspec": {
   "display_name": "Python 3",
   "language": "python",
   "name": "python3"
  },
  "language_info": {
   "codemirror_mode": {
    "name": "ipython",
    "version": 3
   },
   "file_extension": ".py",
   "mimetype": "text/x-python",
   "name": "python",
   "nbconvert_exporter": "python",
   "pygments_lexer": "ipython3",
   "version": "3.8.8"
  }
 },
 "nbformat": 4,
 "nbformat_minor": 5
}
